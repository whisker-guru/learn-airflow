{
 "cells": [
  {
   "cell_type": "code",
   "execution_count": null,
   "outputs": [],
   "source": [
    "from datetime import datetime\n",
    "import pendulum\n",
    "from airflow.models import Variable, TaskInstance\n",
    "from airflow.settings import Session"
   ],
   "metadata": {
    "collapsed": false,
    "pycharm": {
     "name": "#%%\n"
    }
   }
  },
  {
   "cell_type": "code",
   "execution_count": null,
   "outputs": [],
   "source": [
    "# Parameters"
   ],
   "metadata": {
    "collapsed": false,
    "pycharm": {
     "name": "#%%\n"
    }
   }
  },
  {
   "cell_type": "code",
   "execution_count": null,
   "outputs": [],
   "source": [
    "greeting=\"greeting\"\n",
    "execution_date_str=\"execution_date\""
   ],
   "metadata": {
    "collapsed": false,
    "pycharm": {
     "name": "#%%\n"
    }
   }
  },
  {
   "cell_type": "code",
   "execution_count": null,
   "outputs": [],
   "source": [
    "# Parameters\n",
    "greeting = \"Hi, \"\n",
    "execution_date = \"2024-02-23T02:15:57.928174+00:00\"\n"
   ],
   "metadata": {
    "collapsed": false,
    "pycharm": {
     "name": "#%%\n"
    }
   }
  },
  {
   "cell_type": "code",
   "execution_count": 7,
   "id": "76555c02",
   "metadata": {
    "collapsed": false,
    "editable": true,
    "execution": {
     "iopub.execute_input": "2024-02-23T02:16:12.703194Z",
     "iopub.status.busy": "2024-02-23T02:16:12.702891Z",
     "iopub.status.idle": "2024-02-23T02:16:12.719377Z",
     "shell.execute_reply": "2024-02-23T02:16:12.718879Z"
    },
    "jupyter": {
     "source_hidden": true
    },
    "papermill": {
     "duration": 0.029976,
     "end_time": "2024-02-23T02:16:12.727265",
     "exception": false,
     "start_time": "2024-02-23T02:16:12.697289",
     "status": "completed"
    },
    "pycharm": {
     "name": "#%%\n"
    },
    "slideshow": {
     "slide_type": ""
    },
    "tags": []
   },
   "outputs": [],
   "source": [
    "dag_id = 'papermill_dag'\n",
    "task_id = 'get_vars_task'\n",
    "key = 'app_name'\n",
    "execution_date = pendulum.parse(execution_date)\n",
    "\n",
    "def get_current_task_instance(dag_id, task_id, execution_date):\n",
    "    session = Session()\n",
    "    task_instance = session.query(TaskInstance)\\\n",
    "        .filter_by(dag_id=dag_id, task_id=task_id, execution_date=execution_date)\\\n",
    "        .first()\n",
    "    session.close()\n",
    "    return task_instance\n",
    "\n",
    "xcom_value = greeting + app_name\n",
    "task_instance = get_current_task_instance(dag_id, task_id, execution_date)\n",
    "task_instance.xcom_push(key=key, value=xcom_value)\n"
   ]
  }
 ],
 "metadata": {
  "kernelspec": {
   "display_name": "Python 3 (ipykernel)",
   "language": "python",
   "name": "python3"
  },
  "language_info": {
   "codemirror_mode": {
    "name": "ipython",
    "version": 3
   },
   "file_extension": ".py",
   "mimetype": "text/x-python",
   "name": "python",
   "nbconvert_exporter": "python",
   "pygments_lexer": "ipython3",
   "version": "3.9.6"
  },
  "papermill": {
   "default_parameters": {},
   "duration": 3.680068,
   "end_time": "2024-02-23T02:16:13.053046",
   "environment_variables": {},
   "exception": null,
   "input_path": "/Users/yihuiwang/learn-workspace/whisker-git/airflow-learning/jupyter/get_params_and_vars.ipynb",
   "output_path": "/Users/yihuiwang/learn-workspace/whisker-git/airflow-learning/jupyter/get_params_and_vars_out.ipynb",
   "parameters": {
    "execution_date": "2024-02-23T02:15:57.928174+00:00",
    "greeting": "Hi, "
   },
   "start_time": "2024-02-23T02:16:09.372978",
   "version": "2.5.0"
  }
 },
 "nbformat": 4,
 "nbformat_minor": 5
}