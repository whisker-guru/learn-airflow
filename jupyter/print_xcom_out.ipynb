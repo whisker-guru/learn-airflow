{
 "cells": [
  {
   "cell_type": "code",
   "execution_count": 1,
   "id": "a02a34e1",
   "metadata": {
    "execution": {
     "iopub.execute_input": "2024-02-23T02:16:24.798751Z",
     "iopub.status.busy": "2024-02-23T02:16:24.798257Z",
     "iopub.status.idle": "2024-02-23T02:16:24.809746Z",
     "shell.execute_reply": "2024-02-23T02:16:24.809183Z"
    },
    "jupyter": {
     "source_hidden": true
    },
    "papermill": {
     "duration": 0.070356,
     "end_time": "2024-02-23T02:16:24.852564",
     "exception": false,
     "start_time": "2024-02-23T02:16:24.782208",
     "status": "completed"
    },
    "tags": [
     "injected-parameters"
    ],
    "pycharm": {
     "name": "#%%\n"
    }
   },
   "outputs": [],
   "source": [
    "# Parameters\n",
    "execution_date = \"2024-02-23T02:15:57.928174+00:00\"\n"
   ]
  },
  {
   "cell_type": "code",
   "execution_count": 2,
   "id": "013cfbd7",
   "metadata": {
    "editable": true,
    "execution": {
     "iopub.execute_input": "2024-02-23T02:16:24.859282Z",
     "iopub.status.busy": "2024-02-23T02:16:24.859052Z",
     "iopub.status.idle": "2024-02-23T02:16:25.637305Z",
     "shell.execute_reply": "2024-02-23T02:16:25.636703Z"
    },
    "jupyter": {
     "source_hidden": true
    },
    "papermill": {
     "duration": 0.797965,
     "end_time": "2024-02-23T02:16:25.655358",
     "exception": false,
     "start_time": "2024-02-23T02:16:24.857393",
     "status": "completed"
    },
    "pycharm": {
     "name": "#%%\n"
    },
    "slideshow": {
     "slide_type": ""
    },
    "tags": []
   },
   "outputs": [],
   "source": [
    "from datetime import datetime\n",
    "import pendulum\n",
    "from airflow.models import Variable, TaskInstance\n",
    "from airflow.settings import Session"
   ]
  },
  {
   "cell_type": "code",
   "execution_count": 3,
   "id": "166070ec",
   "metadata": {
    "editable": true,
    "execution": {
     "iopub.execute_input": "2024-02-23T02:16:25.668867Z",
     "iopub.status.busy": "2024-02-23T02:16:25.668620Z",
     "iopub.status.idle": "2024-02-23T02:16:25.979020Z",
     "shell.execute_reply": "2024-02-23T02:16:25.978701Z"
    },
    "jupyter": {
     "source_hidden": true
    },
    "papermill": {
     "duration": 0.343923,
     "end_time": "2024-02-23T02:16:26.010615",
     "exception": false,
     "start_time": "2024-02-23T02:16:25.666692",
     "status": "completed"
    },
    "pycharm": {
     "name": "#%%\n"
    },
    "slideshow": {
     "slide_type": ""
    },
    "tags": []
   },
   "outputs": [
    {
     "name": "stdout",
     "output_type": "stream",
     "text": [
      "XCom value received: Hi, airflow-practice\n"
     ]
    }
   ],
   "source": [
    "dag_id = 'papermill_dag'\n",
    "task_id = 'print_xcom_task'\n",
    "key = 'app_name'\n",
    "execution_date = pendulum.parse(execution_date)\n",
    "\n",
    "def get_current_task_instance(dag_id, task_id, execution_date):\n",
    "    session = Session()\n",
    "    task_instance = session.query(TaskInstance)\\\n",
    "        .filter_by(dag_id=dag_id, task_id=task_id, execution_date=execution_date)\\\n",
    "        .first()\n",
    "    session.close()\n",
    "    return task_instance\n",
    "\n",
    "task_instance = get_current_task_instance(dag_id, task_id, execution_date)\n",
    "xcom_value = task_instance.xcom_pull(task_ids='get_vars_task', key=key)\n",
    "print(\"XCom value received:\", xcom_value)\n"
   ]
  }
 ],
 "metadata": {
  "kernelspec": {
   "display_name": "Python 3 (ipykernel)",
   "language": "python",
   "name": "python3"
  },
  "language_info": {
   "codemirror_mode": {
    "name": "ipython",
    "version": 3
   },
   "file_extension": ".py",
   "mimetype": "text/x-python",
   "name": "python",
   "nbconvert_exporter": "python",
   "pygments_lexer": "ipython3",
   "version": "3.9.6"
  },
  "papermill": {
   "default_parameters": {},
   "duration": 3.277579,
   "end_time": "2024-02-23T02:16:26.237561",
   "environment_variables": {},
   "exception": null,
   "input_path": "/Users/yihuiwang/learn-workspace/whisker-git/airflow-learning/jupyter/print_xcom.ipynb",
   "output_path": "/Users/yihuiwang/learn-workspace/whisker-git/airflow-learning/jupyter/print_xcom_out.ipynb",
   "parameters": {
    "execution_date": "2024-02-23T02:15:57.928174+00:00"
   },
   "start_time": "2024-02-23T02:16:22.959982",
   "version": "2.5.0"
  }
 },
 "nbformat": 4,
 "nbformat_minor": 5
}