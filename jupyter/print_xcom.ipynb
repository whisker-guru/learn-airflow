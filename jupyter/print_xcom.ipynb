{
 "cells": [
  {
   "cell_type": "code",
   "execution_count": null,
   "metadata": {
    "editable": true,
    "pycharm": {
     "name": "#%%\n"
    },
    "slideshow": {
     "slide_type": ""
    },
    "tags": []
   },
   "outputs": [],
   "source": [
    "from datetime import datetime\n",
    "import pendulum\n",
    "from airflow.models import Variable, TaskInstance\n",
    "from airflow.settings import Session"
   ]
  },
  {
   "cell_type": "code",
   "execution_count": null,
   "metadata": {
    "editable": true,
    "pycharm": {
     "name": "#%%\n"
    },
    "slideshow": {
     "slide_type": ""
    },
    "tags": []
   },
   "outputs": [],
   "source": [
    "dag_id = 'papermill_dag'\n",
    "task_id = 'print_xcom_task'\n",
    "key = 'app_name'\n",
    "execution_date = pendulum.parse(execution_date)\n",
    "\n",
    "def get_current_task_instance(dag_id, task_id, execution_date):\n",
    "    session = Session()\n",
    "    task_instance = session.query(TaskInstance)\\\n",
    "        .filter_by(dag_id=dag_id, task_id=task_id, execution_date=execution_date)\\\n",
    "        .first()\n",
    "    session.close()\n",
    "    return task_instance\n",
    "\n",
    "task_instance = get_current_task_instance(dag_id, task_id, execution_date)\n",
    "xcom_value = task_instance.xcom_pull(task_ids='get_vars_task', key=key)\n",
    "print(\"XCom value received:\", xcom_value)\n"
   ]
  }
 ],
 "metadata": {
  "kernelspec": {
   "display_name": "Python 3 (ipykernel)",
   "language": "python",
   "name": "python3"
  },
  "language_info": {
   "codemirror_mode": {
    "name": "ipython",
    "version": 3
   },
   "file_extension": ".py",
   "mimetype": "text/x-python",
   "name": "python",
   "nbconvert_exporter": "python",
   "pygments_lexer": "ipython3",
   "version": "3.8.16"
  }
 },
 "nbformat": 4,
 "nbformat_minor": 4
}