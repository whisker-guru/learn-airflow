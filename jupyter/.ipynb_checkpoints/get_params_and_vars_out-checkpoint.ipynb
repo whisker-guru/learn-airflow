{
 "cells": [
  {
   "cell_type": "code",
   "execution_count": null,
   "outputs": [],
   "source": [
    "from airflow.models import Variable"
   ],
   "metadata": {
    "collapsed": false,
    "pycharm": {
     "name": "#%%\n"
    }
   }
  },
  {
   "cell_type": "code",
   "execution_count": null,
   "outputs": [],
   "source": [
    "# Parameters"
   ],
   "metadata": {
    "collapsed": false,
    "pycharm": {
     "name": "#%%\n"
    }
   }
  },
  {
   "cell_type": "code",
   "execution_count": null,
   "outputs": [],
   "source": [
    "param1 = \"value1\"\n",
    "param2 = \"value2\""
   ],
   "metadata": {
    "collapsed": false,
    "pycharm": {
     "name": "#%%\n"
    }
   }
  },
  {
   "cell_type": "code",
   "execution_count": null,
   "outputs": [],
   "source": [
    "# Parameters\n",
    "param1 = \"value1\"\n",
    "param2 = \"value2\"\n"
   ],
   "metadata": {
    "collapsed": false,
    "pycharm": {
     "name": "#%%\n"
    }
   }
  },
  {
   "cell_type": "code",
   "execution_count": null,
   "outputs": [],
   "source": [
    "print(param1)\n",
    "print(Variable.get(\"app_name\"))\n"
   ],
   "metadata": {
    "collapsed": false,
    "pycharm": {
     "name": "#%%\n"
    }
   }
  },
  {
   "cell_type": "code",
   "execution_count": 5,
   "id": "80a9b156-a442-423e-b618-9a6aa56946ce",
   "metadata": {
    "editable": true,
    "execution": {
     "iopub.execute_input": "2024-02-22T18:31:13.378073Z",
     "iopub.status.busy": "2024-02-22T18:31:13.377915Z",
     "iopub.status.idle": "2024-02-22T18:31:13.877854Z",
     "shell.execute_reply": "2024-02-22T18:31:13.877380Z"
    },
    "jupyter": {
     "source_hidden": true
    },
    "papermill": {
     "duration": 0.528915,
     "end_time": "2024-02-22T18:31:13.904152",
     "exception": false,
     "start_time": "2024-02-22T18:31:13.375237",
     "status": "completed"
    },
    "slideshow": {
     "slide_type": ""
    },
    "tags": []
   },
   "outputs": [
    {
     "name": "stdout",
     "output_type": "stream",
     "text": [
      "value1\n"
     ]
    },
    {
     "name": "stdout",
     "output_type": "stream",
     "text": [
      "airflow-practice\n"
     ]
    }
   ],
   "source": [
    "print(param1)\n",
    "print(Variable.get(\"app_name\"))"
   ]
  }
 ],
 "metadata": {
  "kernelspec": {
   "display_name": "Python 3 (ipykernel)",
   "language": "python",
   "name": "python3"
  },
  "language_info": {
   "codemirror_mode": {
    "name": "ipython",
    "version": 3
   },
   "file_extension": ".py",
   "mimetype": "text/x-python",
   "name": "python",
   "nbconvert_exporter": "python",
   "pygments_lexer": "ipython3",
   "version": "3.8.16"
  },
  "papermill": {
   "default_parameters": {},
   "duration": 3.088779,
   "end_time": "2024-02-22T18:31:14.132663",
   "environment_variables": {},
   "exception": null,
   "input_path": "/Users/yihuiwang/learn-workspace/whisker-git/airflow-learning/jupyter/notebook_exp.ipynb",
   "output_path": "/Users/yihuiwang/learn-workspace/whisker-git/airflow-learning/jupyter/notebook_exp_out.ipynb",
   "parameters": {
    "param1": "value1",
    "param2": "value2"
   },
   "start_time": "2024-02-22T18:31:11.043884",
   "version": "2.5.0"
  }
 },
 "nbformat": 4,
 "nbformat_minor": 5
}