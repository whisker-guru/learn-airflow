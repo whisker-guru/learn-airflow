{
 "cells": [
  {
   "cell_type": "code",
   "execution_count": null,
   "id": "51799108-9fe1-4955-a360-c642c99873f6",
   "metadata": {
    "editable": true,
    "slideshow": {
     "slide_type": ""
    },
    "tags": []
   },
   "outputs": [],
   "source": [
    "from datetime import datetime\n",
    "import pendulum\n",
    "from airflow.models import Variable, TaskInstance\n",
    "from airflow.settings import Session"
   ]
  },
  {
   "cell_type": "code",
   "execution_count": null,
   "id": "40d80877",
   "metadata": {
    "collapsed": false,
    "editable": true,
    "jupyter": {
     "outputs_hidden": false
    },
    "pycharm": {
     "name": "#%%\n"
    },
    "slideshow": {
     "slide_type": ""
    },
    "tags": []
   },
   "outputs": [],
   "source": [
    "# Parameters"
   ]
  },
  {
   "cell_type": "code",
   "execution_count": null,
   "id": "d98bbe33",
   "metadata": {
    "collapsed": false,
    "editable": false,
    "jupyter": {
     "outputs_hidden": false
    },
    "pycharm": {
     "name": "#%%\n"
    },
    "slideshow": {
     "slide_type": ""
    },
    "tags": [
     "parameters"
    ]
   },
   "outputs": [],
   "source": [
    "greeting=\"greeting\"\n",
    "execution_date_str=\"execution_date\""
   ]
  },
  {
   "cell_type": "code",
   "execution_count": null,
   "id": "e4439b60",
   "metadata": {
    "collapsed": false,
    "editable": true,
    "jupyter": {
     "outputs_hidden": false
    },
    "pycharm": {
     "name": "#%%\n"
    },
    "slideshow": {
     "slide_type": ""
    },
    "tags": []
   },
   "outputs": [],
   "source": [
    "app_name=Variable.get(\"app_name\")"
   ]
  },
  {
   "cell_type": "code",
   "execution_count": null,
   "id": "c8b7d006",
   "metadata": {
    "collapsed": false,
    "editable": true,
    "jupyter": {
     "outputs_hidden": false
    },
    "pycharm": {
     "name": "#%%\n"
    },
    "slideshow": {
     "slide_type": ""
    },
    "tags": []
   },
   "outputs": [],
   "source": [
    "print(f\"{greeting}{app_name}\")\n",
    "print(f\"{execution_date}\")"
   ]
  },
  {
   "cell_type": "code",
   "execution_count": null,
   "id": "76555c02",
   "metadata": {
    "collapsed": false,
    "editable": true,
    "jupyter": {
     "outputs_hidden": false
    },
    "pycharm": {
     "name": "#%%\n"
    },
    "slideshow": {
     "slide_type": ""
    },
    "tags": []
   },
   "outputs": [],
   "source": [
    "dag_id = 'papermill_dag'\n",
    "task_id = 'get_vars_task'\n",
    "key = 'app_name'\n",
    "execution_date = pendulum.parse(execution_date)\n",
    "\n",
    "def get_current_task_instance(dag_id, task_id, execution_date):\n",
    "    session = Session()\n",
    "    task_instance = session.query(TaskInstance)\\\n",
    "        .filter_by(dag_id=dag_id, task_id=task_id, execution_date=execution_date)\\\n",
    "        .first()\n",
    "    session.close()\n",
    "    return task_instance\n",
    "\n",
    "xcom_value = greeting + app_name\n",
    "task_instance = get_current_task_instance(dag_id, task_id, execution_date)\n",
    "task_instance.xcom_push(key=key, value=xcom_value)\n"
   ]
  }
 ],
 "metadata": {
  "kernelspec": {
   "display_name": "Python 3 (ipykernel)",
   "language": "python",
   "name": "python3"
  },
  "language_info": {
   "codemirror_mode": {
    "name": "ipython",
    "version": 3
   },
   "file_extension": ".py",
   "mimetype": "text/x-python",
   "name": "python",
   "nbconvert_exporter": "python",
   "pygments_lexer": "ipython3",
   "version": "3.8.16"
  },
  "papermill": {
   "default_parameters": {},
   "duration": null,
   "end_time": null,
   "environment_variables": {},
   "exception": null,
   "input_path": "/Users/yihuiwang/learn-workspace/whisker-git/airflow-learning/jupyter/notebook_exp.ipynb",
   "output_path": "/Users/yihuiwang/learn-workspace/whisker-git/airflow-learning/jupyter/notebook_exp.ipynb",
   "parameters": {
    "param1": "value1",
    "param2": "value2"
   },
   "start_time": "2024-02-22T18:22:50.103164",
   "version": "2.5.0"
  }
 },
 "nbformat": 4,
 "nbformat_minor": 5
}
