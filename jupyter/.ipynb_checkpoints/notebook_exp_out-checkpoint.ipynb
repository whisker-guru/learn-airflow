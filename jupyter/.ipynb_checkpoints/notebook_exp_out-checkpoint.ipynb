{
 "cells": [
  {
   "cell_type": "code",
   "execution_count": null,
   "id": "407582c4",
   "metadata": {
    "collapsed": false,
    "editable": true,
    "jupyter": {
     "outputs_hidden": false
    },
    "pycharm": {
     "name": "#%%\n"
    },
    "slideshow": {
     "slide_type": ""
    },
    "tags": []
   },
   "outputs": [],
   "source": []
  }
 ],
 "metadata": {
  "kernelspec": {
   "display_name": "Python 3 (ipykernel)",
   "language": "python",
   "name": "python3"
  },
  "language_info": {
   "codemirror_mode": {
    "name": "ipython",
    "version": 3
   },
   "file_extension": ".py",
   "mimetype": "text/x-python",
   "name": "python",
   "nbconvert_exporter": "python",
   "pygments_lexer": "ipython3",
   "version": "3.8.16"
  },
  "papermill": {
   "default_parameters": {},
   "duration": 2.239225,
   "end_time": "2024-02-22T18:19:13.094669",
   "environment_variables": {},
   "exception": null,
   "input_path": "/Users/yihuiwang/learn-workspace/whisker-git/airflow-learning/jupyter/notebook_exp.ipynb",
   "output_path": "/Users/yihuiwang/learn-workspace/whisker-git/airflow-learning/jupyter/notebook_exp.ipynb",
   "parameters": {
    "param1": "value1",
    "param2": "value2"
   },
   "start_time": "2024-02-22T18:19:10.855444",
   "version": "2.5.0"
  }
 },
 "nbformat": 4,
 "nbformat_minor": 5
}
