{
 "cells": [
  {
   "cell_type": "code",
   "execution_count": null,
   "id": "8ac479b2-6166-4154-9086-cd2f44c90ce6",
   "metadata": {},
   "outputs": [],
   "source": [
    "from airflow.models import Variable"
   ]
  },
  {
   "cell_type": "code",
   "execution_count": null,
   "id": "9aa6a909",
   "metadata": {
    "collapsed": false,
    "editable": true,
    "jupyter": {
     "outputs_hidden": false
    },
    "pycharm": {
     "name": "#%%\n"
    },
    "slideshow": {
     "slide_type": ""
    },
    "tags": []
   },
   "outputs": [],
   "source": [
    "# Parameters"
   ]
  },
  {
   "cell_type": "code",
   "execution_count": null,
   "id": "29275398",
   "metadata": {
    "editable": true,
    "papermill": {
     "duration": null,
     "end_time": null,
     "exception": null,
     "start_time": null,
     "status": "pending"
    },
    "pycharm": {
     "name": "#%%\n"
    },
    "slideshow": {
     "slide_type": ""
    },
    "tags": [
     "parameters"
    ]
   },
   "outputs": [],
   "source": [
    "param1 = \"value1\"\n",
    "param2 = \"value2\""
   ]
  },
  {
   "cell_type": "code",
   "execution_count": null,
   "id": "80a9b156-a442-423e-b618-9a6aa56946ce",
   "metadata": {
    "editable": true,
    "slideshow": {
     "slide_type": ""
    },
    "tags": []
   },
   "outputs": [],
   "source": [
    "print(param1)\n",
    "print(Variable.get(\"app_name\"))"
   ]
  }
 ],
 "metadata": {
  "kernelspec": {
   "display_name": "Python 3 (ipykernel)",
   "language": "python",
   "name": "python3"
  },
  "language_info": {
   "codemirror_mode": {
    "name": "ipython",
    "version": 3
   },
   "file_extension": ".py",
   "mimetype": "text/x-python",
   "name": "python",
   "nbconvert_exporter": "python",
   "pygments_lexer": "ipython3",
   "version": "3.8.16"
  },
  "papermill": {
   "default_parameters": {},
   "duration": null,
   "end_time": null,
   "environment_variables": {},
   "exception": null,
   "input_path": "/Users/yihuiwang/learn-workspace/whisker-git/airflow-learning/jupyter/notebook_exp.ipynb",
   "output_path": "/Users/yihuiwang/learn-workspace/whisker-git/airflow-learning/jupyter/notebook_exp.ipynb",
   "parameters": {
    "param1": "value1",
    "param2": "value2"
   },
   "start_time": "2024-02-22T18:22:50.103164",
   "version": "2.5.0"
  }
 },
 "nbformat": 4,
 "nbformat_minor": 5
}
